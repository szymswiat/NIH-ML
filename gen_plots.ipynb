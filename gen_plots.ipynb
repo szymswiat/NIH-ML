{
 "cells": [
  {
   "cell_type": "code",
   "execution_count": null,
   "metadata": {
    "collapsed": false,
    "jupyter": {
     "outputs_hidden": false
    },
    "pycharm": {
     "name": "#%%\n"
    }
   },
   "outputs": [],
   "source": [
    "from pathlib import Path\n",
    "\n",
    "import h5py\n",
    "import yaml\n",
    "from sklearn.metrics import roc_auc_score, roc_curve, auc\n",
    "import matplotlib.pyplot as plt\n",
    "import numpy as np\n",
    "\n",
    "classes_file_path = Path('/media/DATA_SSD/datasets/nih_dataset/classes.yaml')\n",
    "\n",
    "with open(classes_file_path, 'r') as f:\n",
    "    classes = yaml.load(f)\n",
    "\n",
    "# test_out_path = Path('lightning_logs/test/no_exp/version_0') / 'test_output.h5'\n",
    "test_out_path = Path('lightning_logs') / 'test_output.h5'\n",
    "\n",
    "h5f = h5py.File(test_out_path, mode='r')\n",
    "\n",
    "preds = h5f['preds'][:]\n",
    "targets = h5f['targets'][:]\n",
    "\n",
    "# preds = np.delete(preds, 7, axis=1)\n",
    "# targets = np.delete(targets, 7, axis=1)"
   ]
  },
  {
   "cell_type": "code",
   "execution_count": null,
   "metadata": {
    "collapsed": false,
    "jupyter": {
     "outputs_hidden": false
    },
    "pycharm": {
     "name": "#%%\n"
    }
   },
   "outputs": [],
   "source": [
    "import plotly.graph_objects as go\n",
    "import plotly.express as px\n",
    "\n",
    "fig = go.Figure()\n",
    "\n",
    "fig.add_shape(\n",
    "    type='line', line=dict(dash='dash'),\n",
    "    x0=0, x1=1, y0=0, y1=1\n",
    ")\n",
    "\n",
    "roc_output = []\n",
    "for i in range(targets.shape[1]):\n",
    "    roc_output.append(roc_curve(targets[..., i], preds[..., i]))\n",
    "\n",
    "for i, ((fpr, tpr, thresholds), cls) in enumerate(zip(roc_output, classes)):\n",
    "    cls = cls.replace('_', ' ')\n",
    "    thresholds = [f'threshold: {th:.5f}' for th in thresholds]\n",
    "    fig.add_trace(go.Scatter(x=fpr, y=tpr, text=thresholds, name=f'{cls:20} AUC: {auc(fpr, tpr):.3f}', mode='lines'))\n",
    "\n",
    "fig.update_layout(\n",
    "    xaxis_title='False Positive Rate',\n",
    "    yaxis_title='True Positive Rate',\n",
    "    yaxis=dict(scaleanchor=\"x\", scaleratio=1),\n",
    "    xaxis=dict(constrain='domain'),\n",
    "    width=800, height=800,\n",
    "    font=dict(family='Courier New', size=10),\n",
    "    legend=dict(\n",
    "        xanchor='right',\n",
    "        yanchor='bottom',\n",
    "        x=0.928, y=0.01,\n",
    "        traceorder='normal',\n",
    "        font=dict(size=9)\n",
    "    )\n",
    ")\n",
    "\n",
    "mean_auc = roc_auc_score(targets, preds)\n",
    "\n",
    "fig.show()\n",
    "# fig.write_image('roc_chart.png')\n",
    "\n",
    "print(f'Mean AUC: {mean_auc:.4f}')"
   ]
  }
 ],
 "metadata": {
  "kernelspec": {
   "display_name": "Python 3",
   "language": "python",
   "name": "python3"
  },
  "language_info": {
   "codemirror_mode": {
    "name": "ipython",
    "version": 3
   },
   "file_extension": ".py",
   "mimetype": "text/x-python",
   "name": "python",
   "nbconvert_exporter": "python",
   "pygments_lexer": "ipython3",
   "version": "3.8.5"
  }
 },
 "nbformat": 4,
 "nbformat_minor": 4
}