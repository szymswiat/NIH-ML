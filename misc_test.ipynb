{
 "cells": [
  {
   "cell_type": "code",
   "execution_count": null,
   "metadata": {
    "pycharm": {
     "name": "#%%\n"
    }
   },
   "outputs": [],
   "source": [
    "import numpy as np\n",
    "import matplotlib.pyplot as plt\n",
    "\n",
    "epochs = 50\n",
    "\n",
    "k = 0.93\n",
    "initial_lr = 0.01\n",
    "x = np.array(range(0, epochs, 1))\n",
    "\n",
    "y = np.ones(shape=x.shape, dtype=np.float) * initial_lr\n",
    "y = y * k ** x\n",
    "\n",
    "plt.plot(x, y)"
   ]
  },
  {
   "cell_type": "code",
   "execution_count": null,
   "metadata": {
    "collapsed": false,
    "jupyter": {
     "outputs_hidden": false
    },
    "pycharm": {
     "name": "#%%\n"
    }
   },
   "outputs": [],
   "source": [
    "from pytorch_lightning.loggers import NeptuneLogger\n",
    "\n",
    "logger = NeptuneLogger(\n",
    "    project_name='szymswiat5/nih-classification',\n",
    "    api_key=''\n",
    ")"
   ]
  },
  {
   "cell_type": "code",
   "execution_count": null,
   "metadata": {
    "collapsed": false,
    "jupyter": {
     "outputs_hidden": false
    },
    "pycharm": {
     "name": "#%%\n"
    }
   },
   "outputs": [],
   "source": [
    "exp = logger.experiment"
   ]
  },
  {
   "cell_type": "code",
   "execution_count": null,
   "metadata": {
    "collapsed": false,
    "jupyter": {
     "outputs_hidden": false
    },
    "pycharm": {
     "name": "#%%\n"
    }
   },
   "outputs": [],
   "source": [
    "\n",
    "for i in range(epochs):\n",
    "    logger.log_metric('test/test_metric', y[i], x[i])"
   ]
  },
  {
   "cell_type": "code",
   "execution_count": null,
   "metadata": {
    "collapsed": false,
    "jupyter": {
     "outputs_hidden": false
    },
    "pycharm": {
     "name": "#%%\n"
    }
   },
   "outputs": [],
   "source": [
    "logger.finalize('ok')"
   ]
  },
  {
   "cell_type": "code",
   "execution_count": null,
   "metadata": {
    "collapsed": false,
    "jupyter": {
     "outputs_hidden": false
    },
    "pycharm": {
     "name": "#%%\n"
    }
   },
   "outputs": [],
   "source": [
    "from models.efficient_net_v2_module import EfficientNetV2Module\n",
    "import torch\n",
    "\n",
    "mod = EfficientNetV2Module.load_from_checkpoint(\n",
    "    'lightning_logs/hpc_ckpt_1.ckpt',\n",
    "    num_classes=14,\n",
    "    pos_weight=[0.09084507042253522, 0.027230046948356807, 0.03943661971830986, 0.0215962441314554, 0.11455399061032864, 0.023004694835680753, 0.014788732394366197, 0.002112676056338028, 0.1779342723004695, 0.0528169014084507, 0.056572769953051646, 0.031220657276995304, 0.011032863849765259, 0.04765258215962441]\n",
    ")\n",
    "\n",
    "# with open('lightning_logs/epoch=22_val_auc_roc=0.812_top.ckpt', 'r') as f:\n",
    "#     ckpt = torch.load(f)"
   ]
  },
  {
   "cell_type": "code",
   "execution_count": null,
   "metadata": {
    "collapsed": false,
    "jupyter": {
     "outputs_hidden": false
    },
    "pycharm": {
     "name": "#%%\n"
    }
   },
   "outputs": [],
   "source": [
    "from pathlib import Path\n",
    "import pandas as pd\n",
    "import numpy as np\n",
    "import json\n",
    "\n",
    "def split_df(df: pd.DataFrame, chunk1_frac=0.95, seed=0):\n",
    "\n",
    "    chunk1 = df.sample(frac=chunk1_frac, random_state=seed)\n",
    "    chunk2 = df.drop(chunk1.index)\n",
    "\n",
    "    return chunk1, chunk2\n",
    "\n",
    "prefix = 'orig'\n",
    "df_root = Path('/media/DATA_SSD/datasets/nih_dataset/df_split_files')\n",
    "\n",
    "train_val_df_path = df_root / f'{prefix}_train_val_df.csv'\n",
    "train_df_path = df_root / f'{prefix}_train_df.csv'\n",
    "val_df_path = df_root / f'{prefix}_val_df.csv'\n",
    "test_df_path = df_root / f'{prefix}_test_df.csv'"
   ]
  },
  {
   "cell_type": "code",
   "execution_count": null,
   "metadata": {
    "collapsed": false,
    "jupyter": {
     "outputs_hidden": false
    },
    "pycharm": {
     "name": "#%%\n"
    }
   },
   "outputs": [],
   "source": [
    "labels_all = []\n",
    "for df_path in [train_df_path, val_df_path, test_df_path]:\n",
    "\n",
    "    val_df = pd.read_csv(df_path)\n",
    "    labels = val_df['Label'].tolist()\n",
    "    labels = list(map(lambda row: json.loads(row), labels))\n",
    "    labels = np.array(labels)\n",
    "\n",
    "    labels = np.sum(labels, axis=0)\n",
    "    labels_all.append(labels)\n",
    "\n",
    "labels_all_np = np.sum(np.array(labels_all), axis=0)\n",
    "\n",
    "labels_all_perc = []\n",
    "\n",
    "for l in labels_all:\n",
    "    labels_all_perc.append(l / labels_all_np)\n",
    "\n",
    "labels_all_perc = np.array(labels_all_perc)\n"
   ]
  },
  {
   "cell_type": "code",
   "execution_count": null,
   "metadata": {
    "collapsed": false,
    "jupyter": {
     "outputs_hidden": false
    },
    "pycharm": {
     "name": "#%% split custom df\n"
    }
   },
   "outputs": [],
   "source": [
    "train_val_df = pd.read_csv(train_val_df_path)\n",
    "\n",
    "train_df, val_df = split_df(train_val_df)\n",
    "\n",
    "train_df.to_csv(train_df_path, index=False)\n",
    "val_df.to_csv(val_df_path, index=False)"
   ]
  }
 ],
 "metadata": {
  "kernelspec": {
   "display_name": "Python 3",
   "language": "python",
   "name": "python3"
  },
  "language_info": {
   "codemirror_mode": {
    "name": "ipython",
    "version": 3
   },
   "file_extension": ".py",
   "mimetype": "text/x-python",
   "name": "python",
   "nbconvert_exporter": "python",
   "pygments_lexer": "ipython3",
   "version": "3.8.5"
  }
 },
 "nbformat": 4,
 "nbformat_minor": 4
}
