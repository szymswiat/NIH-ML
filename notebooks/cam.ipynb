{
 "cells": [
  {
   "cell_type": "code",
   "execution_count": null,
   "outputs": [],
   "source": [
    "from pathlib import Path\n",
    "\n",
    "import albumentations as A\n",
    "import cv2\n",
    "import torch\n",
    "from imageio.plugins.pillow import ndarray_to_pil\n",
    "from omegaconf import OmegaConf\n",
    "from pytorch_grad_cam.utils.image import show_cam_on_image\n",
    "\n",
    "import transforms as tfm\n",
    "from data.nih_dataset import NIHDataset\n",
    "from inference.models.efficient_net_v2_module import EfficientNetV2Module\n",
    "\n",
    "model_path = Path('../lightning_logs/epoch=9_val_auroc=0.861_top.pt')\n",
    "\n",
    "dataset_path = Path('/home/szymswiat/datasets/nih_dataset')\n",
    "img_size = 384\n",
    "# selected_class = 'Cardiomegaly'\n",
    "selected_class = 'Effusion'\n",
    "\n",
    "model = EfficientNetV2Module.load_from_file(model_path)\n",
    "\n",
    "classes = OmegaConf.to_object(model.hparams.dynamic.classes)\n",
    "\n",
    "metadata = NIHDataset.parse_dataset_meta(\n",
    "    dataset_path=dataset_path,\n",
    "    split_type=NIHDataset.SPLIT_OFFICIAL_VAL_FROM_TEST,\n",
    "    classes=classes\n",
    ")\n",
    "transforms = A.Compose([\n",
    "    A.Resize(img_size, img_size),\n",
    "    tfm.NormalizeAlb(NIHDataset.MIN_MAX_VALUE,\n",
    "                     mean=[NIHDataset.MEAN] * 3,\n",
    "                     std=[NIHDataset.STD] * 3)\n",
    "])\n",
    "\n",
    "test_set = NIHDataset(\n",
    "    dataset_path=dataset_path,\n",
    "    input_df=metadata['test_df'],\n",
    "    filter_by_positive_class=[selected_class],\n",
    "    # mode=NIHDataset.BBOX_ONLY_MODE\n",
    ")\n",
    "\n",
    "model.eval()\n",
    "\n",
    "i = 0\n",
    "\n",
    "feature_maps = {}\n",
    "\n",
    "\n",
    "def get_features(name):\n",
    "    def hook(model, inputs, outputs):\n",
    "        feature_maps[name] = outputs.detach()\n",
    "\n",
    "    return hook\n",
    "\n",
    "\n",
    "model.model.act2.register_forward_hook(get_features('pre_pool_feat'))\n",
    "\n",
    "linear_weights = list(model.model.classifier.parameters())\n",
    "cardio_weights = linear_weights[0][classes.index(selected_class)]"
   ],
   "metadata": {
    "collapsed": false,
    "pycharm": {
     "name": "#%%\n"
    }
   }
  },
  {
   "cell_type": "code",
   "execution_count": null,
   "outputs": [],
   "source": [
    "i += 1"
   ],
   "metadata": {
    "collapsed": false,
    "pycharm": {
     "name": "#%%\n"
    }
   }
  },
  {
   "cell_type": "code",
   "execution_count": null,
   "outputs": [],
   "source": [
    "assert i < len(test_set)\n",
    "img_raw, y_true = test_set[i]\n",
    "img = transforms(image=img_raw)['image']\n",
    "y_pred = model(torch.unsqueeze(torch.tensor(img).permute(2, 0, 1), dim=0).float())\n",
    "y_pred_sum = y_pred.sum()\n",
    "\n",
    "last_conv_feat = torch.squeeze(feature_maps['pre_pool_feat'], dim=0)\n",
    "\n",
    "cam = (last_conv_feat.permute(1, 2, 0) * cardio_weights).permute(2, 0, 1).mean(dim=0).detach().numpy()\n",
    "cam += abs(cam.min())\n",
    "cam /= cam.max()\n",
    "# cam = 1 - cam\n",
    "# cam[cam < 0.8] = 0\n",
    "\n",
    "resized_cam = cv2.resize(cam,\n",
    "           img_raw.shape[:2],\n",
    "           interpolation=cv2.INTER_NEAREST)\n",
    "visualization = show_cam_on_image(img_raw / 255,\n",
    "                                  resized_cam,\n",
    "                                  colormap=cv2.COLORMAP_JET)\n",
    "\n",
    "ndarray_to_pil(visualization)"
   ],
   "metadata": {
    "collapsed": false,
    "pycharm": {
     "name": "#%%\n"
    }
   }
  },
  {
   "cell_type": "code",
   "execution_count": null,
   "outputs": [],
   "source": [
    "from timm.models.resnet import resnet18\n",
    "\n",
    "model = resnet18(pretrained=True, num_classes=10)"
   ],
   "metadata": {
    "collapsed": false,
    "pycharm": {
     "name": "#%%\n"
    }
   }
  },
  {
   "cell_type": "code",
   "execution_count": null,
   "outputs": [],
   "source": [
    "from timm.models.resnet import resnet34\n",
    "\n",
    "model = resnet34(pretrained=True, num_classes=10)"
   ],
   "metadata": {
    "collapsed": false,
    "pycharm": {
     "name": "#%%\n"
    }
   }
  },
  {
   "cell_type": "code",
   "execution_count": null,
   "outputs": [],
   "source": [
    "model"
   ],
   "metadata": {
    "collapsed": false,
    "pycharm": {
     "name": "#%%\n"
    }
   }
  }
 ],
 "metadata": {
  "kernelspec": {
   "display_name": "Python 3",
   "language": "python",
   "name": "python3"
  },
  "language_info": {
   "codemirror_mode": {
    "name": "ipython",
    "version": 2
   },
   "file_extension": ".py",
   "mimetype": "text/x-python",
   "name": "python",
   "nbconvert_exporter": "python",
   "pygments_lexer": "ipython2",
   "version": "2.7.6"
  }
 },
 "nbformat": 4,
 "nbformat_minor": 0
}