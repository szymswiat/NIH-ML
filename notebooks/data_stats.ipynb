{
 "cells": [
  {
   "cell_type": "code",
   "execution_count": 1,
   "outputs": [],
   "source": [
    "import json\n",
    "\n",
    "from data.nih_dataset import NIHDataset\n",
    "# import glob\n",
    "from itertools import chain\n",
    "from pathlib import Path\n",
    "from typing import List\n",
    "\n",
    "import logging\n",
    "import numpy as np\n",
    "import pandas as pd\n",
    "from sklearn.preprocessing import MultiLabelBinarizer\n",
    "\n",
    "logger = logging.getLogger('notebook')\n",
    "\n",
    "dataset_path = Path('/home/szymswiat/datasets/nih_dataset')\n",
    "drop_no_findings_class = True\n",
    "classes = None\n",
    "split_type: str = NIHDataset.SPLIT_OFFICIAL_WITH_VAL\n",
    "\n",
    "data_entry_path = dataset_path / 'Data_Entry_2017.csv'\n",
    "bbox_list_path = dataset_path / 'BBox_List_2017.csv'\n",
    "artifacts_path = dataset_path / 'Artifacts.csv'"
   ],
   "metadata": {
    "collapsed": false,
    "pycharm": {
     "name": "#%%\n"
    }
   }
  },
  {
   "cell_type": "code",
   "execution_count": 2,
   "outputs": [
    {
     "name": "stderr",
     "output_type": "stream",
     "text": [
      "/opt/anaconda3/envs/nih_cxr/lib/python3.9/site-packages/sklearn/preprocessing/_label.py:870: UserWarning: unknown class(es) ['No Finding'] will be ignored\n",
      "  warnings.warn(\n"
     ]
    }
   ],
   "source": [
    "metadata = NIHDataset.parse_dataset_meta(dataset_path)\n",
    "\n",
    "\n",
    "from data.nih_art_detection_data_module import NIHArtDetectionDataModule\n",
    "from torch.utils.data import DataLoader\n",
    "\n",
    "train_ds = NIHDataset(dataset_path, metadata['train_df'], mode=NIHDataset.BBOX_ART_DETECTION_MODE)\n",
    "\n",
    "df = train_ds._df"
   ],
   "metadata": {
    "collapsed": false,
    "pycharm": {
     "name": "#%%\n"
    }
   }
  },
  {
   "cell_type": "code",
   "execution_count": null,
   "outputs": [],
   "source": [
    "from pandas import DataFrame\n",
    "\n",
    "labels = np.array(df['Label'].to_list())\n",
    "classes = metadata['classes']\n",
    "class_count = labels.sum(axis=0)\n",
    "\n",
    "x = DataFrame(data=np.expand_dims(class_count, axis=0), columns=classes)"
   ],
   "metadata": {
    "collapsed": false,
    "pycharm": {
     "name": "#%%\n"
    }
   }
  },
  {
   "cell_type": "code",
   "execution_count": null,
   "outputs": [],
   "source": [],
   "metadata": {
    "collapsed": false,
    "pycharm": {
     "name": "#%%\n"
    }
   }
  }
 ],
 "metadata": {
  "kernelspec": {
   "display_name": "Python 3",
   "language": "python",
   "name": "python3"
  },
  "language_info": {
   "codemirror_mode": {
    "name": "ipython",
    "version": 2
   },
   "file_extension": ".py",
   "mimetype": "text/x-python",
   "name": "python",
   "nbconvert_exporter": "python",
   "pygments_lexer": "ipython2",
   "version": "2.7.6"
  }
 },
 "nbformat": 4,
 "nbformat_minor": 0
}