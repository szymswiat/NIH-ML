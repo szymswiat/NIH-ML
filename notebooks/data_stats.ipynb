{
 "cells": [
  {
   "cell_type": "code",
   "execution_count": null,
   "outputs": [],
   "source": [
    "import glob\n",
    "from collections import OrderedDict\n",
    "\n",
    "from sklearn.preprocessing import MultiLabelBinarizer\n",
    "from itertools import chain\n",
    "import pandas as pd\n",
    "from pathlib import Path\n",
    "import numpy as np\n",
    "from typing import Dict\n",
    "\n",
    "dataset_path = Path('/home/szymswiat/datasets/nih_dataset')\n",
    "drop_no_findings_class = True\n",
    "classes = None\n",
    "\n",
    "data_entry_path = dataset_path / 'Data_Entry_2017.csv'\n",
    "bbox_list_path = dataset_path / 'BBox_List_2017.csv'\n",
    "\n",
    "data_entry_df = pd.read_csv(data_entry_path)\n",
    "bbox_list_df = pd.read_csv(bbox_list_path)\n",
    "\n",
    "all_image_paths = glob.glob(f'{dataset_path}/images_*/images/*.png', recursive=True)\n",
    "all_image_paths.sort()\n",
    "all_image_paths = {Path(x).name: Path(x).relative_to(dataset_path) for x in all_image_paths}\n",
    "\n",
    "if drop_no_findings_class:\n",
    "    data_entry_df['Finding Labels'] = data_entry_df['Finding Labels'].map(lambda x: x.replace('No Finding', ''))\n",
    "\n",
    "data_entry_df['Finding Labels'] = data_entry_df['Finding Labels'].map(lambda x: x.replace('|', ','))\n",
    "\n",
    "if classes is None:\n",
    "    classes = np.unique(list(chain(*data_entry_df['Finding Labels'].map(lambda x: x.split(',')).tolist())))\n",
    "    classes = list(sorted([x for x in classes if len(x) > 0]))\n",
    "\n",
    "    if not drop_no_findings_class:\n",
    "        classes.remove('No Finding')\n",
    "        classes.insert(0, 'No Finding')\n",
    "\n",
    "encoder = MultiLabelBinarizer(classes=classes)\n",
    "labels_all = encoder.fit_transform([c.split(',') for c in list(data_entry_df['Finding Labels'])])\n",
    "\n",
    "all_df = pd.DataFrame()\n",
    "\n",
    "all_df['Image_Index'] = data_entry_df['Image Index']\n",
    "all_df['Image_Path'] = all_df['Image_Index'].map(all_image_paths.get)\n",
    "all_df['Label'] = labels_all.tolist()\n",
    "all_df['Patient_ID'] = data_entry_df['Patient ID']\n",
    "\n",
    "train_val_list = pd.read_csv(dataset_path / 'train_val_list.txt', header=None)\n",
    "train_val_list.columns = ['Image_Index']\n",
    "test_list = pd.read_csv(dataset_path / 'test_list.txt', header=None)\n",
    "test_list.columns = ['Image_Index']\n",
    "\n",
    "train_val_df = all_df.merge(train_val_list, on='Image_Index')\n",
    "test_df = all_df.merge(test_list, on='Image_Index')"
   ],
   "metadata": {
    "collapsed": false,
    "pycharm": {
     "name": "#%%\n"
    }
   }
  },
  {
   "cell_type": "code",
   "source": [
    "val_patients_perc = 0.045\n",
    "\n",
    "train_val_unique_patients = pd.Series(train_val_df['Patient_ID'].unique())\n",
    "\n",
    "val_patients = train_val_unique_patients.sample(frac=val_patients_perc, random_state=0)\n",
    "train_patients = train_val_unique_patients.drop(index=val_patients.index)\n",
    "\n",
    "train_patients = train_patients.to_frame(name='Patient_ID')\n",
    "val_patients = val_patients.to_frame(name='Patient_ID')\n",
    "\n",
    "train_df = all_df.merge(train_patients, on='Patient_ID')\n",
    "val_df = all_df.merge(val_patients, on='Patient_ID')"
   ],
   "metadata": {
    "collapsed": false,
    "pycharm": {
     "name": "#%%\n"
    }
   },
   "execution_count": null,
   "outputs": []
  },
  {
   "cell_type": "code",
   "execution_count": null,
   "outputs": [],
   "source": [
    "all_data = OrderedDict([\n",
    "    ('all', {'df': all_df}),\n",
    "    ('train_val', {'df': train_val_df}),\n",
    "    ('train', {'df': train_df}),\n",
    "    ('val', {'df': val_df}),\n",
    "    ('test', {'df': test_df})\n",
    "])\n",
    "\n",
    "for name, data in all_data.items():\n",
    "    data['labels'] = np.array([x for x in data['df']['Label']])\n",
    "    data['dist'] = data['labels'].sum(axis=0) / data['labels'].shape[0]\n",
    "\n",
    "classes_dist_df = pd.DataFrame(\n",
    "    index=[f'{n}_dist' for n in all_data],\n",
    "    columns=classes,\n",
    "    data=np.stack([v['dist'] for _, v in all_data.items()])\n",
    ")"
   ],
   "metadata": {
    "collapsed": false,
    "pycharm": {
     "name": "#%%\n"
    }
   }
  },
  {
   "cell_type": "code",
   "execution_count": null,
   "outputs": [],
   "source": [
    "all_patients = data_entry_df['Patient ID'].nunique()\n",
    "\n",
    "for name, data in all_data.items():\n",
    "    data['patient_count'] = data['df']['Patient_ID'].nunique()\n",
    "    data['patient_perc'] = data['patient_count'] / all_patients\n",
    "    data['samples_perc'] = len(data['df']) / len(data_entry_df)\n",
    "\n",
    "columns = ['patient_count', 'patient_perc', 'samples_perc']\n",
    "patients_samples_dist = pd.DataFrame(\n",
    "    index=[f'{n}' for n in all_data],\n",
    "    columns=columns,\n",
    "    data=np.stack([[v[c] for c in columns]\n",
    "                   for _, v in all_data.items()])\n",
    ")"
   ],
   "metadata": {
    "collapsed": false,
    "pycharm": {
     "name": "#%%\n"
    }
   }
  }
 ],
 "metadata": {
  "kernelspec": {
   "display_name": "Python 3",
   "language": "python",
   "name": "python3"
  },
  "language_info": {
   "codemirror_mode": {
    "name": "ipython",
    "version": 2
   },
   "file_extension": ".py",
   "mimetype": "text/x-python",
   "name": "python",
   "nbconvert_exporter": "python",
   "pygments_lexer": "ipython2",
   "version": "2.7.6"
  }
 },
 "nbformat": 4,
 "nbformat_minor": 0
}