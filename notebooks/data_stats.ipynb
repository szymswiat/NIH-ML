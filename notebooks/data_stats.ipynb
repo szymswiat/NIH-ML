{
 "cells": [
  {
   "cell_type": "code",
   "execution_count": null,
   "outputs": [],
   "source": [
    "import json\n",
    "\n",
    "from data.nih_dataset import NIHDataset\n",
    "# import glob\n",
    "from itertools import chain\n",
    "from pathlib import Path\n",
    "from typing import List\n",
    "\n",
    "import logging\n",
    "import numpy as np\n",
    "import pandas as pd\n",
    "from sklearn.preprocessing import MultiLabelBinarizer\n",
    "\n",
    "logger = logging.getLogger('notebook')\n",
    "\n",
    "dataset_path = Path('/home/szymswiat/datasets/nih_dataset')\n",
    "drop_no_findings_class = True\n",
    "classes = None\n",
    "split_type: str = NIHDataset.SPLIT_OFFICIAL_WITH_VAL\n",
    "\n",
    "data_entry_path = dataset_path / 'Data_Entry_2017.csv'\n",
    "bbox_list_path = dataset_path / 'BBox_List_2017.csv'\n",
    "artifacts_path = dataset_path / 'Artifacts.csv'"
   ],
   "metadata": {
    "collapsed": false,
    "pycharm": {
     "name": "#%%\n"
    }
   }
  },
  {
   "cell_type": "code",
   "execution_count": null,
   "outputs": [],
   "source": [
    "metadata = NIHDataset.parse_dataset_meta(dataset_path)"
   ],
   "metadata": {
    "collapsed": false,
    "pycharm": {
     "name": "#%%\n"
    }
   }
  },
  {
   "cell_type": "code",
   "execution_count": null,
   "outputs": [],
   "source": [
    "from data.nih_art_detection_data_module import NIHArtDetectionDataModule\n",
    "from torch.utils.data import DataLoader\n",
    "\n",
    "train_ds = NIHDataset(dataset_path, metadata['train_df'], mode=NIHDataset.BBOX_ART_DETECTION_MODE)\n",
    "\n",
    "dl = DataLoader(train_ds, 4, collate_fn=NIHArtDetectionDataModule.collate_batch)\n",
    "\n",
    "x = iter(dl)\n",
    "a = next(x)"
   ],
   "metadata": {
    "collapsed": false,
    "pycharm": {
     "name": "#%%\n"
    }
   }
  }
 ],
 "metadata": {
  "kernelspec": {
   "display_name": "Python 3",
   "language": "python",
   "name": "python3"
  },
  "language_info": {
   "codemirror_mode": {
    "name": "ipython",
    "version": 2
   },
   "file_extension": ".py",
   "mimetype": "text/x-python",
   "name": "python",
   "nbconvert_exporter": "python",
   "pygments_lexer": "ipython2",
   "version": "2.7.6"
  }
 },
 "nbformat": 4,
 "nbformat_minor": 0
}