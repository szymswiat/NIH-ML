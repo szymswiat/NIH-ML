{
 "cells": [
  {
   "cell_type": "code",
   "execution_count": null,
   "metadata": {
    "collapsed": true
   },
   "outputs": [],
   "source": [
    "from pathlib import Path\n",
    "import torch\n",
    "from omegaconf import OmegaConf\n",
    "\n",
    "from modules.nih_efficient_net_v2_module import NIHEfficientNetV2Module\n",
    "from modules.nih_resnet_module import NIHResNetModule\n",
    "\n",
    "model_path = Path('../lightning_logs/resnet34_epoch=17_val_auroc=0.843_top.pt')\n",
    "\n",
    "state = torch.load(model_path.as_posix())\n",
    "hparams = OmegaConf.create(state['hparams'])\n",
    "\n",
    "if hparams.architecture == 'eff_net_v2':\n",
    "    model_class = NIHEfficientNetV2Module\n",
    "elif hparams.architecture == 'resnet':\n",
    "    model_class = NIHResNetModule\n",
    "else:\n",
    "    raise ValueError()\n",
    "\n",
    "model = model_class.load_from_file(model_path)"
   ]
  },
  {
   "cell_type": "code",
   "execution_count": null,
   "outputs": [],
   "source": [
    "# ['Cardiomegaly', 'Edema', 'Effusion', 'Emphysema', 'Mass', 'Pneumothorax']\n",
    "thresholds = [0.209, 0.226, 0.347, 0.184, 0.211, 0.222]\n",
    "fpr = [0.22, 0.24, 0.34, 0.15, 0.416, 0.27]\n",
    "\n",
    "model.save_to_file(\n",
    "    model_path.parent / (model_path.stem + '_updated' + '.pt'),\n",
    "    thresholds=thresholds\n",
    ")\n"
   ],
   "metadata": {
    "collapsed": false,
    "pycharm": {
     "name": "#%%\n"
    }
   }
  }
 ],
 "metadata": {
  "kernelspec": {
   "display_name": "Python 3",
   "language": "python",
   "name": "python3"
  },
  "language_info": {
   "codemirror_mode": {
    "name": "ipython",
    "version": 2
   },
   "file_extension": ".py",
   "mimetype": "text/x-python",
   "name": "python",
   "nbconvert_exporter": "python",
   "pygments_lexer": "ipython2",
   "version": "2.7.6"
  }
 },
 "nbformat": 4,
 "nbformat_minor": 0
}