{
 "cells": [
  {
   "cell_type": "code",
   "execution_count": null,
   "metadata": {
    "collapsed": true
   },
   "outputs": [],
   "source": [
    "import logging\n",
    "from math import sqrt\n",
    "from pathlib import Path\n",
    "\n",
    "import albumentations as A\n",
    "import progressbar as pb\n",
    "\n",
    "import transforms as tsf\n",
    "from data.nih_dataset import NIHDataset\n",
    "\n",
    "logging.basicConfig(level=logging.INFO)\n",
    "\n",
    "dataset_path = Path('/home/szymswiat/datasets/nih_dataset')\n",
    "\n",
    "data = NIHDataset.parse_dataset_meta(dataset_path)\n",
    "\n",
    "all_df = data['train_df'] # .append(data['test_df'])\n",
    "img_shape = (380, 380)\n",
    "\n",
    "\n",
    "transforms = A.Compose([\n",
    "    A.Resize(*img_shape),\n",
    "    tsf.NormalizeAlb((0, 255), mean=[0] * 3, std=[1] * 3)\n",
    "])\n",
    "\n",
    "ds = NIHDataset(dataset_path, all_df, transforms)"
   ]
  },
  {
   "cell_type": "code",
   "execution_count": null,
   "outputs": [],
   "source": [
    "px_sum = 0\n",
    "px_sum_sq = 0\n",
    "\n",
    "\n",
    "for d in pb.progressbar(ds):\n",
    "    px_sum += d[0][..., 0].sum()\n",
    "    px_sum_sq += (d[0][..., 0] ** 2).sum()"
   ],
   "metadata": {
    "collapsed": false,
    "pycharm": {
     "name": "#%%\n"
    }
   }
  },
  {
   "cell_type": "code",
   "execution_count": null,
   "outputs": [],
   "source": [
    "pixel_count = img_shape[0] * img_shape[1] * len(ds)\n",
    "\n",
    "mean = px_sum / pixel_count\n",
    "std = sqrt(px_sum_sq / pixel_count - mean ** 2)\n",
    "\n",
    "print(f'mean: {mean:.4f}')\n",
    "print(f'std : {std:.4f}')"
   ],
   "metadata": {
    "collapsed": false,
    "pycharm": {
     "name": "#%%\n"
    }
   }
  }
 ],
 "metadata": {
  "kernelspec": {
   "display_name": "Python 3",
   "language": "python",
   "name": "python3"
  },
  "language_info": {
   "codemirror_mode": {
    "name": "ipython",
    "version": 2
   },
   "file_extension": ".py",
   "mimetype": "text/x-python",
   "name": "python",
   "nbconvert_exporter": "python",
   "pygments_lexer": "ipython2",
   "version": "2.7.6"
  }
 },
 "nbformat": 4,
 "nbformat_minor": 0
}