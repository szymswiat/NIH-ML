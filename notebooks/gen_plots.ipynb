{
 "cells": [
  {
   "cell_type": "code",
   "execution_count": null,
   "metadata": {
    "collapsed": false,
    "jupyter": {
     "outputs_hidden": false
    },
    "pycharm": {
     "name": "#%%\n"
    }
   },
   "outputs": [],
   "source": [
    "from pathlib import Path\n",
    "\n",
    "import numpy as np\n",
    "from sklearn.metrics import roc_auc_score, roc_curve, auc, precision_recall_curve\n",
    "import plotly.graph_objects as go\n",
    "from typing import List, Tuple, Callable\n",
    "from utils.pred_zarr_io import PredZarrReader\n",
    "import zarr\n",
    "\n",
    "test_out_path = Path('../lightning_logs') / 'resnet_output.zarr'\n",
    "\n",
    "# with zarr.ZipStore(test_out_path.as_posix(), mode='a') as store:\n",
    "#     root = zarr.open(store)\n",
    "#     root.attrs['classes'] = ['Cardiomegaly', 'Edema', 'Effusion', 'Emphysema', 'Mass', 'Pneumothorax']\n",
    "\n",
    "with PredZarrReader(test_out_path) as pzr:\n",
    "    preds, targets, classes = pzr.read_pred_output()\n",
    "\n",
    "\n",
    "def plot_scatter(x_y_ths: List[Tuple[np.ndarray, ...]],\n",
    "                 class_list: List[str],\n",
    "                 axis_labels: Tuple[str, str],\n",
    "                 metric_name: str,\n",
    "                 metric_func: Callable,\n",
    "                 line_mode: int) -> go.Figure:\n",
    "    fig = go.Figure()\n",
    "\n",
    "    y0 = 0 if line_mode == 0 else 1\n",
    "    y1 = 1 - y0\n",
    "    fig.add_shape(\n",
    "        type='line', line=dict(dash='dash'),\n",
    "        x0=0, y0=y0, x1=1, y1=y1\n",
    "    )\n",
    "\n",
    "    for i, (x_y_th, cls) in enumerate(zip(x_y_ths, class_list)):\n",
    "        x, y, th = x_y_th\n",
    "        cls = cls.replace('_', ' ')\n",
    "        cls = f'{i}.{cls}'\n",
    "\n",
    "        thresholds = [f'threshold: {th_s:.5f}' for th_s in th]\n",
    "        fig.add_trace(go.Scatter(x=x, y=y, text=thresholds,\n",
    "                                 name=f'{cls:20} {metric_name}: {metric_func(x, y):.3f}', mode='lines'))\n",
    "\n",
    "    fig.update_layout(\n",
    "        xaxis_title=axis_labels[0],\n",
    "        yaxis_title=axis_labels[1],\n",
    "        yaxis=dict(scaleanchor=\"x\", scaleratio=1),\n",
    "        xaxis=dict(constrain='domain'),\n",
    "        width=800, height=800,\n",
    "        font=dict(family='Courier New', size=10),\n",
    "        # legend=dict(\n",
    "        #     xanchor='right',\n",
    "        #     yanchor='bottom',\n",
    "        #     x=0.928, y=0.01,\n",
    "        #     traceorder='normal',\n",
    "        #     font=dict(size=9)\n",
    "        # )\n",
    "    )\n",
    "    return fig\n"
   ]
  },
  {
   "cell_type": "code",
   "execution_count": null,
   "outputs": [],
   "source": [
    "roc_output = []\n",
    "for i in range(targets.shape[1]):\n",
    "    roc_output.append(roc_curve(targets[..., i], preds[..., i]))\n",
    "\n",
    "fig = plot_scatter(roc_output, classes, ('FPR', 'TPR'), 'AUC', auc, line_mode=0)\n",
    "fig.show()\n",
    "# fig.write_image('roc_chart.png')\n",
    "\n",
    "mean_auc = roc_auc_score(targets, preds)\n",
    "print(f'Mean AUC: {mean_auc:.4f}')"
   ],
   "metadata": {
    "collapsed": false,
    "pycharm": {
     "name": "#%%\n"
    }
   }
  },
  {
   "cell_type": "code",
   "execution_count": null,
   "outputs": [],
   "source": [
    "pr_output = []\n",
    "for i in range(targets.shape[1]):\n",
    "    precision, recall, thresholds = precision_recall_curve(targets[..., i], preds[..., i])\n",
    "    pr_output.append((recall, precision, thresholds))\n",
    "\n",
    "fig = plot_scatter(pr_output, classes, ('Recall', 'Precision'), 'AUC', auc, line_mode=1)\n",
    "fig.show()\n",
    "# fig.write_image('roc_chart.png')\n",
    "\n",
    "# mean_auc = roc_auc_score(targets, preds)\n",
    "# print(f'Mean AUC: {mean_auc:.4f}')"
   ],
   "metadata": {
    "collapsed": false,
    "pycharm": {
     "name": "#%%\n"
    }
   }
  }
 ],
 "metadata": {
  "kernelspec": {
   "display_name": "Python 3",
   "language": "python",
   "name": "python3"
  },
  "language_info": {
   "codemirror_mode": {
    "name": "ipython",
    "version": 3
   },
   "file_extension": ".py",
   "mimetype": "text/x-python",
   "name": "python",
   "nbconvert_exporter": "python",
   "pygments_lexer": "ipython3",
   "version": "3.8.5"
  }
 },
 "nbformat": 4,
 "nbformat_minor": 4
}