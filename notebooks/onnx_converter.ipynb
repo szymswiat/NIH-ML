{
 "cells": [
  {
   "cell_type": "code",
   "execution_count": null,
   "metadata": {
    "collapsed": true
   },
   "outputs": [],
   "source": [
    "from inference_utils.cam_predictor import CamPredictorMultiLabel\n",
    "from pathlib import Path\n",
    "\n",
    "import torch\n",
    "from omegaconf import OmegaConf\n",
    "\n",
    "from modules.classification.efficient_net_v2_module import EfficientNetV2Module\n",
    "from modules.classification.resnet_module import ResNetModule\n",
    "\n",
    "# 00006160_001.png\n",
    "# 00014753_000.png\n",
    "# 00013613_007.png good example of shitty image\n",
    "# 00028730_000.png no finding\n",
    "\n",
    "model_path = Path('../lightning_logs/resnet34_epoch=17_val_auroc=0.843_top_updated.pt')\n",
    "dataset_path = Path('/home/szymswiat/datasets/nih_dataset')\n",
    "img_size = 384\n",
    "\n",
    "state = torch.load(model_path.as_posix())\n",
    "hparams = OmegaConf.create(state['hparams'])\n",
    "thresholds = torch.tensor(state['thresholds'])\n",
    "classes = OmegaConf.to_object(hparams.dynamic.classes)\n",
    "\n",
    "if hparams.architecture == 'eff_net_v2':\n",
    "    model_class = EfficientNetV2Module\n",
    "elif hparams.architecture == 'resnet':\n",
    "    model_class = ResNetModule\n",
    "else:\n",
    "    raise ValueError()\n",
    "\n",
    "model = model_class.create_from_state(state)\n",
    "model.eval()\n",
    "\n",
    "gradcam_target_layer = model.model.layer4[0]\n",
    "cam_pred = CamPredictorMultiLabel(model, thresholds, gradcam_target_layer)"
   ]
  },
  {
   "cell_type": "code",
   "execution_count": null,
   "outputs": [],
   "source": [
    "import torch\n",
    "from pathlib import Path\n",
    "\n",
    "model_dir = Path('models')\n",
    "\n",
    "x = torch.onnx.export(model=cam_pred,\n",
    "                      f=(model_dir / 'resnet_cam.onnx').as_posix(),\n",
    "                      args=(torch.zeros(3, 384, 384, requires_grad=True), ),\n",
    "                      opset_version=11)"
   ],
   "metadata": {
    "collapsed": false,
    "pycharm": {
     "name": "#%%\n"
    }
   }
  }
 ],
 "metadata": {
  "kernelspec": {
   "display_name": "Python 3",
   "language": "python",
   "name": "python3"
  },
  "language_info": {
   "codemirror_mode": {
    "name": "ipython",
    "version": 2
   },
   "file_extension": ".py",
   "mimetype": "text/x-python",
   "name": "python",
   "nbconvert_exporter": "python",
   "pygments_lexer": "ipython2",
   "version": "2.7.6"
  }
 },
 "nbformat": 4,
 "nbformat_minor": 0
}