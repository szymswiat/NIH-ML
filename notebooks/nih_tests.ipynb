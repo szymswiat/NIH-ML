{
 "cells": [
  {
   "cell_type": "code",
   "execution_count": null,
   "outputs": [],
   "source": [
    "import torch\n",
    "from omegaconf import OmegaConf\n",
    "from data.nih_dataset import NIHDataset\n",
    "from data.nih_art_detection_data_module import NIHArtDetectionDataModule\n",
    "\n",
    "hparams = OmegaConf.load('../config/hparams/art_detection.yaml')\n",
    "\n",
    "dm = NIHArtDetectionDataModule(\n",
    "    dataset_path='/home/szymswiat/datasets/nih_dataset',\n",
    "    split_type=NIHDataset.SPLIT_OFFICIAL_WITH_VAL,\n",
    "    num_workers=0,\n",
    "    phases=hparams.phases\n",
    ")\n",
    "dm.trainer = OmegaConf.create(dict(current_epoch=0))\n",
    "\n",
    "tr_ds = dm.train_dataloader().dataset\n",
    "val_ds = dm.val_dataloader().dataset\n",
    "test_ds = dm.test_dataloader().dataset\n",
    "\n",
    "tr_df = tr_ds._df\n",
    "val_df = val_ds._df\n",
    "test_df = test_ds._df\n",
    "\n",
    "i = 0"
   ],
   "metadata": {
    "collapsed": false,
    "pycharm": {
     "name": "#%%\n"
    }
   }
  },
  {
   "cell_type": "code",
   "execution_count": null,
   "outputs": [],
   "source": [
    "from torchvision.utils import draw_bounding_boxes\n",
    "from imageio.plugins.pillow import ndarray_to_pil\n",
    "\n",
    "img, target = tr_ds[i]\n",
    "img = (img * 255).type(torch.uint8)\n",
    "img = draw_bounding_boxes(img, torch.tensor([box[:-1] for box in target]))\n",
    "i += 1\n",
    "\n",
    "ndarray_to_pil(img.permute(1, 2, 0).detach().numpy())"
   ],
   "metadata": {
    "collapsed": false,
    "pycharm": {
     "name": "#%%\n"
    }
   }
  },
  {
   "cell_type": "code",
   "execution_count": null,
   "outputs": [],
   "source": [
    "# replay"
   ],
   "metadata": {
    "collapsed": false,
    "pycharm": {
     "name": "#%%\n"
    }
   }
  },
  {
   "cell_type": "code",
   "execution_count": null,
   "outputs": [],
   "source": [
    "from typing import List\n",
    "from pandas import DataFrame\n",
    "import numpy as np\n",
    "\n",
    "def flat_targets(df: DataFrame):\n",
    "    flat_classes = []\n",
    "    flat_boxes = []\n",
    "    for bbox_list in df['Bboxes_Art']:\n",
    "        for bbox in bbox_list:\n",
    "            flat_boxes.append(bbox[:-1])\n",
    "            flat_classes.append(bbox[-1])\n",
    "    return np.array(flat_boxes), np.array(flat_classes)\n",
    "\n",
    "tr_boxes, tr_classes = flat_targets(tr_df)\n",
    "val_boxes, val_classes = flat_targets(val_df)\n",
    "test_boxes, test_classes = flat_targets(test_df)\n",
    "\n",
    "tr_d = np.unique(tr_classes, return_counts=True)\n",
    "val_d = np.unique(val_classes, return_counts=True)\n",
    "test_d = np.unique(test_classes, return_counts=True)"
   ],
   "metadata": {
    "collapsed": false,
    "pycharm": {
     "name": "#%%\n"
    }
   }
  },
  {
   "cell_type": "code",
   "execution_count": null,
   "outputs": [],
   "source": [
    "import plotly.express as px\n",
    "\n",
    "for cls, cnt in [tr_d, val_d,  test_d]:\n",
    "    fig = px.bar(x=cls, y=cnt)\n",
    "    fig.show()"
   ],
   "metadata": {
    "collapsed": false,
    "pycharm": {
     "name": "#%%\n"
    }
   }
  },
  {
   "cell_type": "code",
   "execution_count": null,
   "outputs": [],
   "source": [
    "tr_boxes_size = tr_boxes[..., 2:] - tr_boxes[..., :2]\n",
    "aspects = tr_boxes_size[..., 0] / tr_boxes_size[..., 1]"
   ],
   "metadata": {
    "collapsed": false,
    "pycharm": {
     "name": "#%%\n"
    }
   }
  }
 ],
 "metadata": {
  "kernelspec": {
   "display_name": "Python 3",
   "language": "python",
   "name": "python3"
  },
  "language_info": {
   "codemirror_mode": {
    "name": "ipython",
    "version": 2
   },
   "file_extension": ".py",
   "mimetype": "text/x-python",
   "name": "python",
   "nbconvert_exporter": "python",
   "pygments_lexer": "ipython2",
   "version": "2.7.6"
  }
 },
 "nbformat": 4,
 "nbformat_minor": 0
}