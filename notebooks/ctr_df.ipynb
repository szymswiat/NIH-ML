{
 "cells": [
  {
   "cell_type": "code",
   "execution_count": null,
   "metadata": {
    "collapsed": true
   },
   "outputs": [],
   "source": [
    "import glob\n",
    "from pathlib import Path\n",
    "import pandas as pd\n",
    "import numpy as np\n",
    "from itertools import chain\n",
    "from sklearn.preprocessing import MultiLabelBinarizer\n",
    "import shutil\n",
    "import progressbar as pb\n",
    "\n",
    "dataset_path = Path('/home/szymswiat/datasets/nih_dataset')\n",
    "data_entry_df = pd.read_csv(Path('../ds/Data_Entry_2017.csv'))\n",
    "target_dir = Path('/home/szymswiat/datasets/nih_dataset/filtered')"
   ]
  },
  {
   "cell_type": "code",
   "execution_count": null,
   "outputs": [],
   "source": [
    "all_image_paths = glob.glob(f'{dataset_path}/images_*/images/*.png', recursive=True)\n",
    "all_image_paths.sort()\n",
    "all_image_paths = {Path(x).name: Path(x).relative_to(dataset_path) for x in all_image_paths}\n",
    "\n",
    "data_entry_df['Finding Labels'] = data_entry_df['Finding Labels'].map(lambda x: x.replace('|', ','))\n",
    "\n",
    "classes = np.unique(list(chain(*data_entry_df['Finding Labels'].map(lambda x: x.split(',')).tolist())))\n",
    "classes = list(sorted([x for x in classes if len(x) > 0]))\n",
    "\n",
    "\n",
    "encoder = MultiLabelBinarizer(classes=classes)\n",
    "labels_str = [c.split(',') for c in list(data_entry_df['Finding Labels'])]\n",
    "labels_all = encoder.fit_transform(labels_str)\n",
    "\n",
    "all_df = pd.DataFrame()\n",
    "\n",
    "all_df['Image_Index'] = data_entry_df['Image Index']\n",
    "all_df['Image_Path'] = all_df['Image_Index'].map(lambda img_idx: all_image_paths.get(img_idx, ''))\n",
    "# all_df['Label'] = labels_all.tolist()\n",
    "all_df['Label_Str'] = labels_str\n",
    "all_df['Patient_ID'] = data_entry_df['Patient ID']"
   ],
   "metadata": {
    "collapsed": false,
    "pycharm": {
     "name": "#%%\n"
    }
   }
  },
  {
   "cell_type": "code",
   "execution_count": null,
   "outputs": [],
   "source": [
    "card_df = all_df[all_df.apply(lambda x: 'Cardiomegaly' in x['Label_Str'], axis=1)]\n",
    "no_fin_df = all_df[all_df.apply(lambda x: 'No Finding' in x['Label_Str'], axis=1)]\n",
    "\n",
    "card_df = card_df.sample(2000, random_state=0)\n",
    "no_fin_df = no_fin_df.sample(2000, random_state=0)"
   ],
   "metadata": {
    "collapsed": false,
    "pycharm": {
     "name": "#%%\n"
    }
   }
  },
  {
   "cell_type": "code",
   "execution_count": null,
   "outputs": [],
   "source": [
    "\n",
    "for path in pb.progressbar(card_df.append(no_fin_df)['Image_Path']):\n",
    "    if path == '':\n",
    "        continue\n",
    "    path = Path(path)\n",
    "    target = target_dir / path\n",
    "    target.parent.mkdir(parents=True, exist_ok=True)\n",
    "    shutil.copy(dataset_path / path, target)\n",
    "\n",
    "card_df.to_csv(target_dir / 'card_df.csv')\n",
    "no_fin_df.to_csv(target_dir / 'no_fin_df.csv')"
   ],
   "metadata": {
    "collapsed": false,
    "pycharm": {
     "name": "#%%\n"
    }
   }
  }
 ],
 "metadata": {
  "kernelspec": {
   "display_name": "Python 3",
   "language": "python",
   "name": "python3"
  },
  "language_info": {
   "codemirror_mode": {
    "name": "ipython",
    "version": 2
   },
   "file_extension": ".py",
   "mimetype": "text/x-python",
   "name": "python",
   "nbconvert_exporter": "python",
   "pygments_lexer": "ipython2",
   "version": "2.7.6"
  }
 },
 "nbformat": 4,
 "nbformat_minor": 0
}